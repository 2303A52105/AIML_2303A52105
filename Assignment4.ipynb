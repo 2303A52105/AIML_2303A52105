{
  "nbformat": 4,
  "nbformat_minor": 0,
  "metadata": {
    "colab": {
      "provenance": [],
      "authorship_tag": "ABX9TyOnMt2G6P+Kq8VHShzKjiz5",
      "include_colab_link": true
    },
    "kernelspec": {
      "name": "python3",
      "display_name": "Python 3"
    },
    "language_info": {
      "name": "python"
    }
  },
  "cells": [
    {
      "cell_type": "markdown",
      "metadata": {
        "id": "view-in-github",
        "colab_type": "text"
      },
      "source": [
        "<a href=\"https://colab.research.google.com/github/2303A52105/AIML_2303A52105/blob/main/Assignment4.ipynb\" target=\"_parent\"><img src=\"https://colab.research.google.com/assets/colab-badge.svg\" alt=\"Open In Colab\"/></a>"
      ]
    },
    {
      "cell_type": "code",
      "execution_count": null,
      "metadata": {
        "colab": {
          "base_uri": "https://localhost:8080/"
        },
        "id": "uq_BYaQRPd-8",
        "outputId": "42a6746f-7bfc-4a2e-aeb8-b27557cee741"
      },
      "outputs": [
        {
          "output_type": "stream",
          "name": "stdout",
          "text": [
            "Drive already mounted at /content/drive; to attempt to forcibly remount, call drive.mount(\"/content/drive\", force_remount=True).\n"
          ]
        }
      ],
      "source": [
        "from google.colab import drive\n",
        "drive.mount('/content/drive')"
      ]
    },
    {
      "cell_type": "markdown",
      "source": [
        "Question 1:"
      ],
      "metadata": {
        "id": "nO_lsLETWucl"
      }
    },
    {
      "cell_type": "code",
      "source": [
        "import pandas as pd\n",
        "data = pd.read_csv('/content/drive/MyDrive/stml/train.csv')\n",
        "print(data.head())\n",
        "\n"
      ],
      "metadata": {
        "colab": {
          "base_uri": "https://localhost:8080/"
        },
        "id": "pDXh-_l0YjjL",
        "outputId": "c6a24559-5ad0-4b39-8324-f19e4bfc5ac3"
      },
      "execution_count": null,
      "outputs": [
        {
          "output_type": "stream",
          "name": "stdout",
          "text": [
            "   battery_power  blue  clock_speed  dual_sim  fc  four_g  int_memory  m_dep  \\\n",
            "0            842     0          2.2         0   1       0           7    0.6   \n",
            "1           1021     1          0.5         1   0       1          53    0.7   \n",
            "2            563     1          0.5         1   2       1          41    0.9   \n",
            "3            615     1          2.5         0   0       0          10    0.8   \n",
            "4           1821     1          1.2         0  13       1          44    0.6   \n",
            "\n",
            "   mobile_wt  n_cores  ...  px_height  px_width   ram  sc_h  sc_w  talk_time  \\\n",
            "0        188        2  ...         20       756  2549     9     7         19   \n",
            "1        136        3  ...        905      1988  2631    17     3          7   \n",
            "2        145        5  ...       1263      1716  2603    11     2          9   \n",
            "3        131        6  ...       1216      1786  2769    16     8         11   \n",
            "4        141        2  ...       1208      1212  1411     8     2         15   \n",
            "\n",
            "   three_g  touch_screen  wifi  price_range  \n",
            "0        0             0     1            1  \n",
            "1        1             1     0            2  \n",
            "2        1             1     0            2  \n",
            "3        1             0     0            2  \n",
            "4        1             1     0            1  \n",
            "\n",
            "[5 rows x 21 columns]\n"
          ]
        }
      ]
    },
    {
      "cell_type": "code",
      "source": [
        " y=data[\"price_range\"]\n",
        " print(y)"
      ],
      "metadata": {
        "colab": {
          "base_uri": "https://localhost:8080/"
        },
        "id": "CORJ1xAGLwjF",
        "outputId": "b474a30a-821b-457d-e252-f6811ccb1589"
      },
      "execution_count": null,
      "outputs": [
        {
          "output_type": "stream",
          "name": "stdout",
          "text": [
            "0       1\n",
            "1       2\n",
            "2       2\n",
            "3       2\n",
            "4       1\n",
            "       ..\n",
            "1995    0\n",
            "1996    2\n",
            "1997    3\n",
            "1998    0\n",
            "1999    3\n",
            "Name: price_range, Length: 2000, dtype: int64\n"
          ]
        }
      ]
    },
    {
      "cell_type": "code",
      "source": [
        "x=data.drop('price_range',axis=1)\n",
        "print(x)"
      ],
      "metadata": {
        "colab": {
          "base_uri": "https://localhost:8080/"
        },
        "id": "-3V_XqKLL4ON",
        "outputId": "56801bc5-b01d-4ef9-c2ee-18c70755aa25"
      },
      "execution_count": null,
      "outputs": [
        {
          "output_type": "stream",
          "name": "stdout",
          "text": [
            "      battery_power  blue  clock_speed  dual_sim  fc  four_g  int_memory  \\\n",
            "0               842     0          2.2         0   1       0           7   \n",
            "1              1021     1          0.5         1   0       1          53   \n",
            "2               563     1          0.5         1   2       1          41   \n",
            "3               615     1          2.5         0   0       0          10   \n",
            "4              1821     1          1.2         0  13       1          44   \n",
            "...             ...   ...          ...       ...  ..     ...         ...   \n",
            "1995            794     1          0.5         1   0       1           2   \n",
            "1996           1965     1          2.6         1   0       0          39   \n",
            "1997           1911     0          0.9         1   1       1          36   \n",
            "1998           1512     0          0.9         0   4       1          46   \n",
            "1999            510     1          2.0         1   5       1          45   \n",
            "\n",
            "      m_dep  mobile_wt  n_cores  pc  px_height  px_width   ram  sc_h  sc_w  \\\n",
            "0       0.6        188        2   2         20       756  2549     9     7   \n",
            "1       0.7        136        3   6        905      1988  2631    17     3   \n",
            "2       0.9        145        5   6       1263      1716  2603    11     2   \n",
            "3       0.8        131        6   9       1216      1786  2769    16     8   \n",
            "4       0.6        141        2  14       1208      1212  1411     8     2   \n",
            "...     ...        ...      ...  ..        ...       ...   ...   ...   ...   \n",
            "1995    0.8        106        6  14       1222      1890   668    13     4   \n",
            "1996    0.2        187        4   3        915      1965  2032    11    10   \n",
            "1997    0.7        108        8   3        868      1632  3057     9     1   \n",
            "1998    0.1        145        5   5        336       670   869    18    10   \n",
            "1999    0.9        168        6  16        483       754  3919    19     4   \n",
            "\n",
            "      talk_time  three_g  touch_screen  wifi  \n",
            "0            19        0             0     1  \n",
            "1             7        1             1     0  \n",
            "2             9        1             1     0  \n",
            "3            11        1             0     0  \n",
            "4            15        1             1     0  \n",
            "...         ...      ...           ...   ...  \n",
            "1995         19        1             1     0  \n",
            "1996         16        1             1     1  \n",
            "1997          5        1             1     0  \n",
            "1998         19        1             1     1  \n",
            "1999          2        1             1     1  \n",
            "\n",
            "[2000 rows x 20 columns]\n"
          ]
        }
      ]
    },
    {
      "cell_type": "code",
      "source": [
        "dd=(x-x.min())/((x.max()) - x.min())\n",
        "print(dd)"
      ],
      "metadata": {
        "colab": {
          "base_uri": "https://localhost:8080/"
        },
        "id": "OnJioFrDMEKA",
        "outputId": "4b062811-072a-4c40-cdb8-bee88310fb63"
      },
      "execution_count": null,
      "outputs": [
        {
          "output_type": "stream",
          "name": "stdout",
          "text": [
            "      battery_power  blue  clock_speed  dual_sim        fc  four_g  \\\n",
            "0          0.227789   0.0         0.68       0.0  0.052632     0.0   \n",
            "1          0.347361   1.0         0.00       1.0  0.000000     1.0   \n",
            "2          0.041416   1.0         0.00       1.0  0.105263     1.0   \n",
            "3          0.076152   1.0         0.80       0.0  0.000000     0.0   \n",
            "4          0.881764   1.0         0.28       0.0  0.684211     1.0   \n",
            "...             ...   ...          ...       ...       ...     ...   \n",
            "1995       0.195725   1.0         0.00       1.0  0.000000     1.0   \n",
            "1996       0.977956   1.0         0.84       1.0  0.000000     0.0   \n",
            "1997       0.941884   0.0         0.16       1.0  0.052632     1.0   \n",
            "1998       0.675351   0.0         0.16       0.0  0.210526     1.0   \n",
            "1999       0.006012   1.0         0.60       1.0  0.263158     1.0   \n",
            "\n",
            "      int_memory     m_dep  mobile_wt   n_cores    pc  px_height  px_width  \\\n",
            "0       0.080645  0.555556   0.900000  0.142857  0.10   0.010204  0.170895   \n",
            "1       0.822581  0.666667   0.466667  0.285714  0.30   0.461735  0.993324   \n",
            "2       0.629032  0.888889   0.541667  0.571429  0.30   0.644388  0.811749   \n",
            "3       0.129032  0.777778   0.425000  0.714286  0.45   0.620408  0.858478   \n",
            "4       0.677419  0.555556   0.508333  0.142857  0.70   0.616327  0.475300   \n",
            "...          ...       ...        ...       ...   ...        ...       ...   \n",
            "1995    0.000000  0.777778   0.216667  0.714286  0.70   0.623469  0.927904   \n",
            "1996    0.596774  0.111111   0.891667  0.428571  0.15   0.466837  0.977971   \n",
            "1997    0.548387  0.666667   0.233333  1.000000  0.15   0.442857  0.755674   \n",
            "1998    0.709677  0.000000   0.541667  0.571429  0.25   0.171429  0.113485   \n",
            "1999    0.693548  0.888889   0.733333  0.714286  0.80   0.246429  0.169559   \n",
            "\n",
            "           ram      sc_h      sc_w  talk_time  three_g  touch_screen  wifi  \n",
            "0     0.612774  0.285714  0.388889   0.944444      0.0           0.0   1.0  \n",
            "1     0.634687  0.857143  0.166667   0.277778      1.0           1.0   0.0  \n",
            "2     0.627205  0.428571  0.111111   0.388889      1.0           1.0   0.0  \n",
            "3     0.671566  0.785714  0.444444   0.500000      1.0           0.0   0.0  \n",
            "4     0.308658  0.214286  0.111111   0.722222      1.0           1.0   0.0  \n",
            "...        ...       ...       ...        ...      ...           ...   ...  \n",
            "1995  0.110102  0.571429  0.222222   0.944444      1.0           1.0   0.0  \n",
            "1996  0.474613  0.428571  0.555556   0.777778      1.0           1.0   1.0  \n",
            "1997  0.748530  0.285714  0.055556   0.166667      1.0           1.0   0.0  \n",
            "1998  0.163816  0.928571  0.555556   0.944444      1.0           1.0   1.0  \n",
            "1999  0.978888  1.000000  0.222222   0.000000      1.0           1.0   1.0  \n",
            "\n",
            "[2000 rows x 20 columns]\n"
          ]
        }
      ]
    },
    {
      "cell_type": "code",
      "source": [
        " from sklearn.model_selection import train_test_split\n",
        " x_train, x_test_, y_train, y_test=train_test_split(dd, y, test_size=0.2)\n",
        " print(x_train)\n",
        " print(x_test_)\n",
        " print(y_train)\n",
        " print(y_test)"
      ],
      "metadata": {
        "colab": {
          "base_uri": "https://localhost:8080/"
        },
        "id": "eBPZLCqgMJNG",
        "outputId": "5d217e05-a415-43d7-96e4-2a93677d0c8d"
      },
      "execution_count": null,
      "outputs": [
        {
          "output_type": "stream",
          "name": "stdout",
          "text": [
            "      battery_power  blue  clock_speed  dual_sim        fc  four_g  \\\n",
            "1193       0.420174   0.0         0.52       1.0  0.000000     0.0   \n",
            "1503       0.842351   0.0         0.08       0.0  0.368421     0.0   \n",
            "465        0.722779   1.0         0.44       0.0  0.263158     1.0   \n",
            "1674       0.964596   0.0         0.28       0.0  0.157895     0.0   \n",
            "329        0.314629   1.0         0.00       1.0  0.263158     0.0   \n",
            "...             ...   ...          ...       ...       ...     ...   \n",
            "1199       0.262525   0.0         0.08       0.0  0.105263     1.0   \n",
            "882        0.437542   1.0         0.88       1.0  0.052632     1.0   \n",
            "546        0.567134   1.0         0.00       1.0  0.000000     1.0   \n",
            "215        0.992652   1.0         0.00       0.0  0.157895     1.0   \n",
            "1979       0.743487   0.0         0.28       0.0  0.052632     1.0   \n",
            "\n",
            "      int_memory     m_dep  mobile_wt   n_cores    pc  px_height  px_width  \\\n",
            "1193    0.403226  0.888889   0.175000  0.000000  0.40   0.762755  0.720294   \n",
            "1503    0.935484  0.000000   0.641667  0.428571  0.50   0.328061  0.193591   \n",
            "465     0.645161  0.777778   0.316667  0.285714  0.50   0.140306  0.241656   \n",
            "1674    0.387097  0.666667   0.266667  0.714286  0.25   0.542857  0.694259   \n",
            "329     0.177419  0.333333   0.941667  0.571429  0.40   0.710204  0.864486   \n",
            "...          ...       ...        ...       ...   ...        ...       ...   \n",
            "1199    0.903226  0.000000   0.358333  0.142857  0.15   0.080612  0.164887   \n",
            "882     0.451613  0.888889   0.775000  0.285714  0.80   0.482143  0.943258   \n",
            "546     0.774194  0.777778   0.841667  1.000000  0.20   0.188265  0.029372   \n",
            "215     0.822581  1.000000   0.841667  0.285714  0.35   0.536735  0.678238   \n",
            "1979    0.112903  0.000000   0.675000  0.285714  0.10   0.088265  0.479973   \n",
            "\n",
            "           ram      sc_h      sc_w  talk_time  three_g  touch_screen  wifi  \n",
            "1193  0.015767  0.642857  0.277778   0.500000      1.0           1.0   0.0  \n",
            "1503  0.300374  0.642857  0.277778   0.666667      1.0           0.0   0.0  \n",
            "465   0.907536  0.642857  0.555556   0.388889      1.0           0.0   0.0  \n",
            "1674  0.819348  0.928571  0.388889   1.000000      0.0           0.0   1.0  \n",
            "329   0.363175  0.428571  0.333333   0.611111      0.0           1.0   0.0  \n",
            "...        ...       ...       ...        ...      ...           ...   ...  \n",
            "1199  0.814805  0.500000  0.388889   0.000000      1.0           0.0   0.0  \n",
            "882   0.662480  0.785714  0.833333   0.611111      1.0           0.0   1.0  \n",
            "546   0.542758  0.714286  0.055556   0.333333      1.0           1.0   0.0  \n",
            "215   0.764564  0.928571  0.277778   0.333333      1.0           1.0   1.0  \n",
            "1979  0.421165  0.714286  0.444444   0.500000      1.0           0.0   0.0  \n",
            "\n",
            "[1600 rows x 20 columns]\n",
            "      battery_power  blue  clock_speed  dual_sim        fc  four_g  \\\n",
            "345        0.102204   1.0         0.32       0.0  0.000000     1.0   \n",
            "1181       0.514362   0.0         0.40       1.0  0.000000     0.0   \n",
            "1811       0.024048   1.0         0.60       0.0  0.052632     1.0   \n",
            "1426       0.636607   0.0         0.36       1.0  0.421053     0.0   \n",
            "1269       0.675351   0.0         0.04       1.0  0.052632     1.0   \n",
            "...             ...   ...          ...       ...       ...     ...   \n",
            "1887       0.813627   1.0         0.64       1.0  0.000000     0.0   \n",
            "1478       0.503006   1.0         0.72       0.0  0.000000     1.0   \n",
            "1233       0.442886   1.0         0.84       1.0  0.000000     0.0   \n",
            "1424       0.568470   0.0         0.76       0.0  0.263158     1.0   \n",
            "1594       0.056780   1.0         0.04       0.0  0.842105     1.0   \n",
            "\n",
            "      int_memory     m_dep  mobile_wt   n_cores    pc  px_height  px_width  \\\n",
            "345     0.806452  0.666667   0.966667  0.428571  0.20   0.875000  0.933244   \n",
            "1181    0.000000  0.888889   0.675000  0.000000  0.05   0.642857  0.859813   \n",
            "1811    0.854839  0.222222   0.191667  0.857143  0.10   0.531122  0.620828   \n",
            "1426    0.564516  0.777778   0.000000  1.000000  1.00   0.460714  0.273698   \n",
            "1269    0.838710  0.333333   0.450000  0.285714  0.10   0.112245  0.893191   \n",
            "...          ...       ...        ...       ...   ...        ...       ...   \n",
            "1887    0.806452  0.000000   0.891667  0.285714  0.05   0.212755  0.013351   \n",
            "1478    0.677419  0.111111   0.575000  0.000000  0.50   0.104082  0.347797   \n",
            "1233    0.951613  0.222222   0.066667  0.000000  0.30   0.564796  0.771696   \n",
            "1424    0.064516  0.888889   0.100000  0.714286  0.45   0.320918  0.533378   \n",
            "1594    0.645161  0.222222   0.341667  0.857143  0.85   0.400510  0.412550   \n",
            "\n",
            "           ram      sc_h      sc_w  talk_time  three_g  touch_screen  wifi  \n",
            "345   0.208445  0.857143  0.222222   0.611111      1.0           0.0   0.0  \n",
            "1181  0.169963  0.714286  0.722222   1.000000      0.0           1.0   0.0  \n",
            "1811  0.473811  0.357143  0.277778   0.555556      1.0           1.0   1.0  \n",
            "1426  0.389364  0.785714  0.000000   0.944444      0.0           0.0   0.0  \n",
            "1269  0.831106  0.142857  0.166667   0.500000      1.0           0.0   1.0  \n",
            "...        ...       ...       ...        ...      ...           ...   ...  \n",
            "1887  0.629075  0.357143  0.055556   0.500000      1.0           1.0   1.0  \n",
            "1478  0.736237  0.142857  0.222222   0.555556      1.0           1.0   0.0  \n",
            "1233  0.962854  0.428571  0.555556   0.833333      0.0           1.0   0.0  \n",
            "1424  0.281400  0.500000  0.055556   0.666667      1.0           0.0   0.0  \n",
            "1594  0.431053  0.500000  0.111111   0.277778      1.0           1.0   1.0  \n",
            "\n",
            "[400 rows x 20 columns]\n",
            "1193    0\n",
            "1503    1\n",
            "465     3\n",
            "1674    3\n",
            "329     1\n",
            "       ..\n",
            "1199    2\n",
            "882     2\n",
            "546     1\n",
            "215     3\n",
            "1979    1\n",
            "Name: price_range, Length: 1600, dtype: int64\n",
            "345     1\n",
            "1181    1\n",
            "1811    1\n",
            "1426    1\n",
            "1269    3\n",
            "       ..\n",
            "1887    2\n",
            "1478    2\n",
            "1233    3\n",
            "1424    1\n",
            "1594    1\n",
            "Name: price_range, Length: 400, dtype: int64\n"
          ]
        }
      ]
    },
    {
      "cell_type": "code",
      "source": [
        "print(x.isnull().sum())\n",
        "data=data.fillna(0)\n",
        "print(data.dtypes)"
      ],
      "metadata": {
        "colab": {
          "base_uri": "https://localhost:8080/"
        },
        "id": "kyVCnXXtMQJ4",
        "outputId": "1cf062a6-9378-4b99-a1f3-a2503ee486f4"
      },
      "execution_count": null,
      "outputs": [
        {
          "output_type": "stream",
          "name": "stdout",
          "text": [
            "battery_power    0\n",
            "blue             0\n",
            "clock_speed      0\n",
            "dual_sim         0\n",
            "fc               0\n",
            "four_g           0\n",
            "int_memory       0\n",
            "m_dep            0\n",
            "mobile_wt        0\n",
            "n_cores          0\n",
            "pc               0\n",
            "px_height        0\n",
            "px_width         0\n",
            "ram              0\n",
            "sc_h             0\n",
            "sc_w             0\n",
            "talk_time        0\n",
            "three_g          0\n",
            "touch_screen     0\n",
            "wifi             0\n",
            "dtype: int64\n",
            "battery_power      int64\n",
            "blue               int64\n",
            "clock_speed      float64\n",
            "dual_sim           int64\n",
            "fc                 int64\n",
            "four_g             int64\n",
            "int_memory         int64\n",
            "m_dep            float64\n",
            "mobile_wt          int64\n",
            "n_cores            int64\n",
            "pc                 int64\n",
            "px_height          int64\n",
            "px_width           int64\n",
            "ram                int64\n",
            "sc_h               int64\n",
            "sc_w               int64\n",
            "talk_time          int64\n",
            "three_g            int64\n",
            "touch_screen       int64\n",
            "wifi               int64\n",
            "price_range        int64\n",
            "dtype: object\n"
          ]
        }
      ]
    },
    {
      "cell_type": "markdown",
      "source": [
        "Question 2:"
      ],
      "metadata": {
        "id": "fEhYPhyAMnhg"
      }
    },
    {
      "cell_type": "code",
      "source": [
        "import pandas as pd\n",
        "data=pd.read_csv(\"/content/drive/MyDrive/stml/housing.csv\");\n",
        "print(data)"
      ],
      "metadata": {
        "colab": {
          "base_uri": "https://localhost:8080/"
        },
        "id": "z8Ql1LzRMqkH",
        "outputId": "b6ce0b8c-5d34-4ada-9658-522cf2b7e28f"
      },
      "execution_count": null,
      "outputs": [
        {
          "output_type": "stream",
          "name": "stdout",
          "text": [
            "       longitude  latitude  housing_median_age  total_rooms  total_bedrooms  \\\n",
            "0        -122.23     37.88                  41          880           129.0   \n",
            "1        -122.22     37.86                  21         7099          1106.0   \n",
            "2        -122.24     37.85                  52         1467           190.0   \n",
            "3        -122.25     37.85                  52         1274           235.0   \n",
            "4        -122.25     37.85                  52         1627           280.0   \n",
            "...          ...       ...                 ...          ...             ...   \n",
            "20635    -121.09     39.48                  25         1665           374.0   \n",
            "20636    -121.21     39.49                  18          697           150.0   \n",
            "20637    -121.22     39.43                  17         2254           485.0   \n",
            "20638    -121.32     39.43                  18         1860           409.0   \n",
            "20639    -121.24     39.37                  16         2785           616.0   \n",
            "\n",
            "       population  households  median_income  median_house_value  \\\n",
            "0             322         126         8.3252              452600   \n",
            "1            2401        1138         8.3014              358500   \n",
            "2             496         177         7.2574              352100   \n",
            "3             558         219         5.6431              341300   \n",
            "4             565         259         3.8462              342200   \n",
            "...           ...         ...            ...                 ...   \n",
            "20635         845         330         1.5603               78100   \n",
            "20636         356         114         2.5568               77100   \n",
            "20637        1007         433         1.7000               92300   \n",
            "20638         741         349         1.8672               84700   \n",
            "20639        1387         530         2.3886               89400   \n",
            "\n",
            "      ocean_proximity  \n",
            "0            NEAR BAY  \n",
            "1            NEAR BAY  \n",
            "2            NEAR BAY  \n",
            "3            NEAR BAY  \n",
            "4            NEAR BAY  \n",
            "...               ...  \n",
            "20635          INLAND  \n",
            "20636          INLAND  \n",
            "20637          INLAND  \n",
            "20638          INLAND  \n",
            "20639          INLAND  \n",
            "\n",
            "[20640 rows x 10 columns]\n"
          ]
        }
      ]
    },
    {
      "cell_type": "code",
      "source": [
        " y=data['median_house_value']\n",
        " print(y)"
      ],
      "metadata": {
        "colab": {
          "base_uri": "https://localhost:8080/"
        },
        "id": "T2JDH2cONMtf",
        "outputId": "889bb0e1-9244-4b48-b15f-6e6ce8c5d9f1"
      },
      "execution_count": null,
      "outputs": [
        {
          "output_type": "stream",
          "name": "stdout",
          "text": [
            "0        452600\n",
            "1        358500\n",
            "2        352100\n",
            "3        341300\n",
            "4        342200\n",
            "          ...  \n",
            "20635     78100\n",
            "20636     77100\n",
            "20637     92300\n",
            "20638     84700\n",
            "20639     89400\n",
            "Name: median_house_value, Length: 20640, dtype: int64\n"
          ]
        }
      ]
    },
    {
      "cell_type": "code",
      "source": [
        " x=data.drop('median_house_value',axis=1)\n",
        " print(x)"
      ],
      "metadata": {
        "colab": {
          "base_uri": "https://localhost:8080/"
        },
        "id": "kq8C3UKpNO-M",
        "outputId": "a978802d-ea31-4569-ccd2-94310e364601"
      },
      "execution_count": null,
      "outputs": [
        {
          "output_type": "stream",
          "name": "stdout",
          "text": [
            "       longitude  latitude  housing_median_age  total_rooms  total_bedrooms  \\\n",
            "0        -122.23     37.88                  41          880           129.0   \n",
            "1        -122.22     37.86                  21         7099          1106.0   \n",
            "2        -122.24     37.85                  52         1467           190.0   \n",
            "3        -122.25     37.85                  52         1274           235.0   \n",
            "4        -122.25     37.85                  52         1627           280.0   \n",
            "...          ...       ...                 ...          ...             ...   \n",
            "20635    -121.09     39.48                  25         1665           374.0   \n",
            "20636    -121.21     39.49                  18          697           150.0   \n",
            "20637    -121.22     39.43                  17         2254           485.0   \n",
            "20638    -121.32     39.43                  18         1860           409.0   \n",
            "20639    -121.24     39.37                  16         2785           616.0   \n",
            "\n",
            "       population  households  median_income ocean_proximity  \n",
            "0             322         126         8.3252        NEAR BAY  \n",
            "1            2401        1138         8.3014        NEAR BAY  \n",
            "2             496         177         7.2574        NEAR BAY  \n",
            "3             558         219         5.6431        NEAR BAY  \n",
            "4             565         259         3.8462        NEAR BAY  \n",
            "...           ...         ...            ...             ...  \n",
            "20635         845         330         1.5603          INLAND  \n",
            "20636         356         114         2.5568          INLAND  \n",
            "20637        1007         433         1.7000          INLAND  \n",
            "20638         741         349         1.8672          INLAND  \n",
            "20639        1387         530         2.3886          INLAND  \n",
            "\n",
            "[20640 rows x 9 columns]\n"
          ]
        }
      ]
    },
    {
      "cell_type": "code",
      "source": [
        "import pandas as pd\n",
        "for column in x.columns:\n",
        "    if x[column].dtype == 'object':\n",
        "        try:\n",
        "            x[column] = pd.to_numeric(x[column])\n",
        "        except ValueError:\n",
        "            print(f\"Could not convert column '{column}' to numeric type.\")\n",
        "            x = x.drop(column, axis=1)\n",
        "data = (x - x.min()) / (x.max() - x.min())\n",
        "print(data)"
      ],
      "metadata": {
        "colab": {
          "base_uri": "https://localhost:8080/"
        },
        "id": "sjrYbZ-nOLKB",
        "outputId": "e383a674-df8f-4d40-cbf2-a24a537fa16e"
      },
      "execution_count": null,
      "outputs": [
        {
          "output_type": "stream",
          "name": "stdout",
          "text": [
            "Could not convert column 'ocean_proximity' to numeric type.\n",
            "       longitude  latitude  housing_median_age  total_rooms  total_bedrooms  \\\n",
            "0       0.211155  0.567481            0.784314     0.022331        0.019863   \n",
            "1       0.212151  0.565356            0.392157     0.180503        0.171477   \n",
            "2       0.210159  0.564293            1.000000     0.037260        0.029330   \n",
            "3       0.209163  0.564293            1.000000     0.032352        0.036313   \n",
            "4       0.209163  0.564293            1.000000     0.041330        0.043296   \n",
            "...          ...       ...                 ...          ...             ...   \n",
            "20635   0.324701  0.737513            0.470588     0.042296        0.057883   \n",
            "20636   0.312749  0.738576            0.333333     0.017676        0.023122   \n",
            "20637   0.311753  0.732200            0.313725     0.057277        0.075109   \n",
            "20638   0.301793  0.732200            0.333333     0.047256        0.063315   \n",
            "20639   0.309761  0.725824            0.294118     0.070782        0.095438   \n",
            "\n",
            "       population  households  median_income  \n",
            "0        0.008941    0.020556       0.539668  \n",
            "1        0.067210    0.186976       0.538027  \n",
            "2        0.013818    0.028943       0.466028  \n",
            "3        0.015555    0.035849       0.354699  \n",
            "4        0.015752    0.042427       0.230776  \n",
            "...           ...         ...            ...  \n",
            "20635    0.023599    0.054103       0.073130  \n",
            "20636    0.009894    0.018582       0.141853  \n",
            "20637    0.028140    0.071041       0.082764  \n",
            "20638    0.020684    0.057227       0.094295  \n",
            "20639    0.038790    0.086992       0.130253  \n",
            "\n",
            "[20640 rows x 8 columns]\n"
          ]
        }
      ]
    },
    {
      "cell_type": "code",
      "source": [
        " from sklearn.model_selection import train_test_split\n",
        " x_train,x_test,y_train,y_test=train_test_split(x,y,test_size=0.1)\n",
        " print(x_train)\n",
        " print(x_test)\n",
        " print(y_train)\n",
        " print(y_test)"
      ],
      "metadata": {
        "colab": {
          "base_uri": "https://localhost:8080/"
        },
        "id": "5_JfPLJVPA-a",
        "outputId": "53113a0b-00ca-4fdb-f999-7c1e802fdde2"
      },
      "execution_count": null,
      "outputs": [
        {
          "output_type": "stream",
          "name": "stdout",
          "text": [
            "       longitude  latitude  housing_median_age  total_rooms  total_bedrooms  \\\n",
            "3572     -118.51     34.24                  31         5297           664.0   \n",
            "3451     -118.44     34.32                  14         6235          1286.0   \n",
            "13669    -117.25     34.08                  30         2981           605.0   \n",
            "17537    -121.89     37.35                  47         2879           631.0   \n",
            "5341     -118.44     34.04                  49           32             7.0   \n",
            "...          ...       ...                 ...          ...             ...   \n",
            "7497     -118.25     33.93                  42          763           191.0   \n",
            "4044     -118.49     34.15                  33         2829           360.0   \n",
            "15438    -117.23     33.20                  29         3372           720.0   \n",
            "8819     -118.34     34.09                  37         1442           501.0   \n",
            "14404    -117.25     32.78                  21         1479           484.0   \n",
            "\n",
            "       population  households  median_income  \n",
            "3572         1986         657         8.6454  \n",
            "3451         3568        1190         4.1724  \n",
            "13669        1784         573         2.4500  \n",
            "17537        2229         606         3.2599  \n",
            "5341           14           7         2.1875  \n",
            "...           ...         ...            ...  \n",
            "7497          754         174         2.0486  \n",
            "4044         1010         363        10.3587  \n",
            "15438        1770         693         3.5109  \n",
            "8819          998         503         2.4432  \n",
            "14404         658         384         2.4500  \n",
            "\n",
            "[18576 rows x 8 columns]\n",
            "       longitude  latitude  housing_median_age  total_rooms  total_bedrooms  \\\n",
            "2323     -119.73     36.83                   8         3602             NaN   \n",
            "17095    -122.24     37.47                  36         2021           433.0   \n",
            "18688    -121.69     36.96                  23         1229           254.0   \n",
            "15821    -122.42     37.75                  52         1207           302.0   \n",
            "4305     -118.30     34.09                  32         2202           674.0   \n",
            "...          ...       ...                 ...          ...             ...   \n",
            "8101     -118.21     33.80                  41         1251           279.0   \n",
            "4300     -118.29     34.09                  35         2624          1116.0   \n",
            "17124    -122.13     37.46                  35         1321           300.0   \n",
            "5337     -118.46     34.04                  31         2621           707.0   \n",
            "12578    -121.44     38.53                  37         1951           432.0   \n",
            "\n",
            "       population  households  median_income  \n",
            "2323         1959         580         5.3478  \n",
            "17095        1117         432         3.9290  \n",
            "18688         687         232         5.1433  \n",
            "15821        1008         269         3.3816  \n",
            "4305         2178         635         2.0307  \n",
            "...           ...         ...            ...  \n",
            "8101         1053         278         3.2778  \n",
            "4300         3548        1008         2.0132  \n",
            "17124        1133         287         3.7312  \n",
            "5337         1632         673         3.2870  \n",
            "12578        1089         411         2.3272  \n",
            "\n",
            "[2064 rows x 8 columns]\n",
            "3572     483500\n",
            "3451     211600\n",
            "13669     85800\n",
            "17537    183100\n",
            "5341     225000\n",
            "          ...  \n",
            "7497     101800\n",
            "4044     500001\n",
            "15438    166000\n",
            "8819     200000\n",
            "14404    350000\n",
            "Name: median_house_value, Length: 18576, dtype: int64\n",
            "2323     138800\n",
            "17095    303100\n",
            "18688    305600\n",
            "15821    262500\n",
            "4305     226700\n",
            "          ...  \n",
            "8101     150800\n",
            "4300     198400\n",
            "17124    159600\n",
            "5337     348100\n",
            "12578     80600\n",
            "Name: median_house_value, Length: 2064, dtype: int64\n"
          ]
        }
      ]
    },
    {
      "cell_type": "code",
      "source": [
        " print(x.isnull().sum())\n",
        " data=data.fillna(0)\n",
        " print(data.dtypes)"
      ],
      "metadata": {
        "colab": {
          "base_uri": "https://localhost:8080/"
        },
        "id": "DdTOflTAPG6r",
        "outputId": "3c6ad2ed-6004-40d7-cb59-2c1d74d7aea5"
      },
      "execution_count": null,
      "outputs": [
        {
          "output_type": "stream",
          "name": "stdout",
          "text": [
            "longitude               0\n",
            "latitude                0\n",
            "housing_median_age      0\n",
            "total_rooms             0\n",
            "total_bedrooms        207\n",
            "population              0\n",
            "households              0\n",
            "median_income           0\n",
            "dtype: int64\n",
            "longitude             float64\n",
            "latitude              float64\n",
            "housing_median_age    float64\n",
            "total_rooms           float64\n",
            "total_bedrooms        float64\n",
            "population            float64\n",
            "households            float64\n",
            "median_income         float64\n",
            "dtype: object\n"
          ]
        }
      ]
    }
  ]
}