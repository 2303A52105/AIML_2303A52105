{
  "nbformat": 4,
  "nbformat_minor": 0,
  "metadata": {
    "colab": {
      "provenance": [],
      "authorship_tag": "ABX9TyPgN+DtzuwlPwH5TJ734q9p",
      "include_colab_link": true
    },
    "kernelspec": {
      "name": "python3",
      "display_name": "Python 3"
    },
    "language_info": {
      "name": "python"
    }
  },
  "cells": [
    {
      "cell_type": "markdown",
      "metadata": {
        "id": "view-in-github",
        "colab_type": "text"
      },
      "source": [
        "<a href=\"https://colab.research.google.com/github/2303A52105/AIML_2303A52105/blob/main/Lab01_Aiml.ipynb\" target=\"_parent\"><img src=\"https://colab.research.google.com/assets/colab-badge.svg\" alt=\"Open In Colab\"/></a>"
      ]
    },
    {
      "cell_type": "code",
      "execution_count": null,
      "metadata": {
        "id": "ud-zmRjm8sSl"
      },
      "outputs": [],
      "source": []
    },
    {
      "cell_type": "markdown",
      "source": [
        " Part 1 Implement Basic Data Structures using Numpy, Pandas\n",
        " 1. Lists\n",
        " 2. Arrays\n",
        " 3. Identify their type using type()\n",
        " 4. Perform mathematical operations on these datasets created- multiplication, division,\n",
        " powero\n",
        " 5. Combine text with Numpy fuction to generate a textual output- Addition of Two:\n",
        " array1 +array 2\n",
        " 6. Implement np.sin(), log(), log2(), np.exp())"
      ],
      "metadata": {
        "id": "c11Kb-Af-ihD"
      }
    },
    {
      "cell_type": "code",
      "source": [
        "import numpy as np\n",
        "list1=[1,2,3]\n",
        "array1=np.array(list1)\n",
        "array1"
      ],
      "metadata": {
        "colab": {
          "base_uri": "https://localhost:8080/"
        },
        "id": "AOb10uFb-raG",
        "outputId": "d0879456-3e63-4948-b8a1-1d40148a9428"
      },
      "execution_count": 1,
      "outputs": [
        {
          "output_type": "execute_result",
          "data": {
            "text/plain": [
              "array([1, 2, 3])"
            ]
          },
          "metadata": {},
          "execution_count": 1
        }
      ]
    },
    {
      "cell_type": "code",
      "source": [
        "type(list1)"
      ],
      "metadata": {
        "colab": {
          "base_uri": "https://localhost:8080/"
        },
        "id": "LnueqvyL-2FB",
        "outputId": "f85def4f-1f66-4f1f-a44a-b47c1525698e"
      },
      "execution_count": 2,
      "outputs": [
        {
          "output_type": "execute_result",
          "data": {
            "text/plain": [
              "list"
            ]
          },
          "metadata": {},
          "execution_count": 2
        }
      ]
    },
    {
      "cell_type": "code",
      "source": [
        "type(array1)"
      ],
      "metadata": {
        "colab": {
          "base_uri": "https://localhost:8080/"
        },
        "id": "ErBpyWvcEIjI",
        "outputId": "f9575cad-d829-4a08-9121-d6c7caa1e6c0"
      },
      "execution_count": 3,
      "outputs": [
        {
          "output_type": "execute_result",
          "data": {
            "text/plain": [
              "numpy.ndarray"
            ]
          },
          "metadata": {},
          "execution_count": 3
        }
      ]
    },
    {
      "cell_type": "code",
      "source": [
        "list2=[3,4,5]\n",
        "array2=np.array(list2)\n",
        "array2"
      ],
      "metadata": {
        "colab": {
          "base_uri": "https://localhost:8080/"
        },
        "id": "7VFApEQvEQt9",
        "outputId": "ff21f081-e04c-4c02-ccaa-8de6e6eba04e"
      },
      "execution_count": 4,
      "outputs": [
        {
          "output_type": "execute_result",
          "data": {
            "text/plain": [
              "array([3, 4, 5])"
            ]
          },
          "metadata": {},
          "execution_count": 4
        }
      ]
    },
    {
      "cell_type": "code",
      "source": [
        "print(\"array2 multiplied by array1:\",array1*array2)\n",
        "print(\"array2 divided by array1:\",array2/array1)\n",
        "print(print(\"array2 raised to the power of array1: \",array2**array1))"
      ],
      "metadata": {
        "colab": {
          "base_uri": "https://localhost:8080/"
        },
        "id": "pPTwnvbuEUEL",
        "outputId": "2043089c-dc75-4c40-b414-c96b4fc5b620"
      },
      "execution_count": 5,
      "outputs": [
        {
          "output_type": "stream",
          "name": "stdout",
          "text": [
            "array2 multiplied by array1: [ 3  8 15]\n",
            "array2 divided by array1: [3.         2.         1.66666667]\n",
            "array2 raised to the power of array1:  [  3  16 125]\n",
            "None\n"
          ]
        }
      ]
    },
    {
      "cell_type": "code",
      "source": [
        "list2=[3,4,5]\n",
        "array2=np.array(list2)\n",
        "array2"
      ],
      "metadata": {
        "colab": {
          "base_uri": "https://localhost:8080/"
        },
        "id": "ichNHI53EV9L",
        "outputId": "be21b357-28db-4d47-d9ef-1c6f260c97b9"
      },
      "execution_count": 6,
      "outputs": [
        {
          "output_type": "execute_result",
          "data": {
            "text/plain": [
              "array([3, 4, 5])"
            ]
          },
          "metadata": {},
          "execution_count": 6
        }
      ]
    },
    {
      "cell_type": "code",
      "source": [
        "print(\"Adding two numpy arrays {array1} and {array2} together:\", array1+array2)\n"
      ],
      "metadata": {
        "colab": {
          "base_uri": "https://localhost:8080/"
        },
        "id": "ucpQRXvqEZiZ",
        "outputId": "fb38979b-096d-4c51-ef11-535edab1f621"
      },
      "execution_count": 7,
      "outputs": [
        {
          "output_type": "stream",
          "name": "stdout",
          "text": [
            "Adding two numpy arrays {array1} and {array2} together: [4 6 8]\n"
          ]
        }
      ]
    },
    {
      "cell_type": "code",
      "source": [
        "print(f\"Adding two numpy arrays {array1} and {array2} together: {array1+array2}\")"
      ],
      "metadata": {
        "colab": {
          "base_uri": "https://localhost:8080/"
        },
        "id": "oDY8HDFvEecb",
        "outputId": "a3ab864d-13e6-4831-f621-aaf682014a11"
      },
      "execution_count": 8,
      "outputs": [
        {
          "output_type": "stream",
          "name": "stdout",
          "text": [
            "Adding two numpy arrays [1 2 3] and [3 4 5] together: [4 6 8]\n"
          ]
        }
      ]
    },
    {
      "cell_type": "code",
      "source": [
        "print(\"Sine: \",np.sin(array1))\n",
        "print(\"Natural logarithm: \",np.log(array1))\n",
        "print(\"Base-10 logarithm: \",np.log10(array1))\n",
        "print(\"Base-2 logarithm: \",np.log2(array1))\n",
        "print(\"Exponential: \",np.exp(array1))"
      ],
      "metadata": {
        "colab": {
          "base_uri": "https://localhost:8080/"
        },
        "id": "cEuJR0wwEikg",
        "outputId": "8e983c98-bdfd-410c-897c-8b1952353ef7"
      },
      "execution_count": 9,
      "outputs": [
        {
          "output_type": "stream",
          "name": "stdout",
          "text": [
            "Sine:  [0.84147098 0.90929743 0.14112001]\n",
            "Natural logarithm:  [0.         0.69314718 1.09861229]\n",
            "Base-10 logarithm:  [0.         0.30103    0.47712125]\n",
            "Base-2 logarithm:  [0.        1.        1.5849625]\n",
            "Exponential:  [ 2.71828183  7.3890561  20.08553692]\n"
          ]
        }
      ]
    }
  ]
}