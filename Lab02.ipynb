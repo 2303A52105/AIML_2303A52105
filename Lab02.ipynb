{
  "nbformat": 4,
  "nbformat_minor": 0,
  "metadata": {
    "colab": {
      "provenance": [],
      "authorship_tag": "ABX9TyNjsfc7wo2hRs6AkR60HSkq",
      "include_colab_link": true
    },
    "kernelspec": {
      "name": "python3",
      "display_name": "Python 3"
    },
    "language_info": {
      "name": "python"
    }
  },
  "cells": [
    {
      "cell_type": "markdown",
      "metadata": {
        "id": "view-in-github",
        "colab_type": "text"
      },
      "source": [
        "<a href=\"https://colab.research.google.com/github/2303A52105/AIML_2303A52105/blob/main/Lab02.ipynb\" target=\"_parent\"><img src=\"https://colab.research.google.com/assets/colab-badge.svg\" alt=\"Open In Colab\"/></a>"
      ]
    },
    {
      "cell_type": "markdown",
      "source": [
        "**Part** 1 Implement Breadth First Search Algorithm using a Queue\n",
        "1. Given a graph with adjacency list and a starting vertex and we have to traverse the graph.\n",
        "2. We will first print the value in the starting vertex,\n",
        "3. Continue to print the value of neighbors of the starting vertex and\n",
        "4. Next move on to the next level after completing the current level till all the vertices of the graph are printed."
      ],
      "metadata": {
        "id": "RJ3tw07GGWsd"
      }
    },
    {
      "cell_type": "code",
      "source": [
        "from queue import Queue\n",
        "graph={0:[1,3],1:[0,2,3],2:[1,4,5],3:[0,1,4],4:[2,3,5],5:[2,4]}\n",
        "print(graph)"
      ],
      "metadata": {
        "colab": {
          "base_uri": "https://localhost:8080/"
        },
        "id": "ptjv5db5GgA5",
        "outputId": "5f97eede-17ca-42a1-93dc-7b43be4ed8dc"
      },
      "execution_count": null,
      "outputs": [
        {
          "output_type": "stream",
          "name": "stdout",
          "text": [
            "{0: [1, 3], 1: [0, 2, 3], 2: [1, 4, 5], 3: [0, 1, 4], 4: [2, 3, 5], 5: [2, 4]}\n"
          ]
        }
      ]
    },
    {
      "cell_type": "code",
      "source": [
        "def bfs(graph,source):\n",
        "  Q=Queue()\n",
        "  visited_vertices=set()\n",
        "  Q.put(source)\n",
        "  visited_vertices.update({0})\n",
        "  while not Q.empty():\n",
        "    vertex=Q.get()\n",
        "    print(vertex,end=\"-->\")\n",
        "    for u in graph[vertex]:\n",
        "      if u not in visited_vertices:\n",
        "        Q.put(u)\n",
        "        visited_vertices.update({u})\n",
        "print(\"BFS traversal of growth with source 0 is:\")\n",
        "bfs(graph,0)\n",
        "\n",
        "\n"
      ],
      "metadata": {
        "colab": {
          "base_uri": "https://localhost:8080/"
        },
        "id": "L0raz3WZAFED",
        "outputId": "36b64e05-173a-4cf4-e25b-2e9d2d3b698c"
      },
      "execution_count": null,
      "outputs": [
        {
          "output_type": "stream",
          "name": "stdout",
          "text": [
            "BFS traversal of growth with source 0 is:\n",
            "0-->1-->3-->2-->4-->5-->"
          ]
        }
      ]
    },
    {
      "cell_type": "markdown",
      "source": [
        "Part 2 Implement Depth First Search Algorithm using a Stack\n",
        " 0.1 DFS Stack implementations steps to be followed:\n",
        " 1. Start at the root node and push it onto the stack.\n",
        " 2. Check for any adjacent nodes of the tree and select one node.\n",
        " 3. Traverse the entire branch of the selected node and push all the nodes into the stack.\n",
        " 4. Upon reaching the end of a branch (no more adjacent nodes) ie nth leaf node, move\n",
        " back by a single step and look for adjacent nodes of the n-1th node.\n",
        " 5. If there are adjacent nodes for the n-1th node, traverse those branches and push nodes\n",
        " onto the stack."
      ],
      "metadata": {
        "id": "2bmnaAhbHPQS"
      }
    },
    {
      "cell_type": "code",
      "source": [
        "graph1 = {\n",
        "    'A': ['B','S'],\n",
        "    'B': ['A'],\n",
        "    'C': ['D', 'E', 'F', 'S'],\n",
        "    'D': ['C'],\n",
        "    'E': ['C', 'H'],\n",
        "    'F': ['C', 'G'],\n",
        "    'G': ['F', 'S',],\n",
        "    'H': ['E', 'G'],\n",
        "    'S': ['A', 'C', 'G']\n",
        "}\n",
        "def dfs (graph, node, visited):\n",
        "  if node not in visited:\n",
        "    visited.append(node)\n",
        "    for k in graph[node]:\n",
        "      dfs(graph,k,visited)\n",
        "  return visited\n",
        "visited=dfs(graph1, 'D', [])\n",
        "print(visited)"
      ],
      "metadata": {
        "id": "pnkf5I-EHRDw",
        "colab": {
          "base_uri": "https://localhost:8080/"
        },
        "outputId": "2e523c0c-f5b1-460f-ce8c-cb4a0e8bd26c"
      },
      "execution_count": 4,
      "outputs": [
        {
          "output_type": "stream",
          "name": "stdout",
          "text": [
            "['D', 'C', 'E', 'H', 'G', 'F', 'S', 'A', 'B']\n"
          ]
        }
      ]
    }
  ]
}